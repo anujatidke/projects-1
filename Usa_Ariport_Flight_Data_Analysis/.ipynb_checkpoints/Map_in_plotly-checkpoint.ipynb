{
 "cells": [
  {
   "cell_type": "markdown",
   "metadata": {},
   "source": [
    "## Map plots chloropath"
   ]
  },
  {
   "cell_type": "markdown",
   "metadata": {},
   "source": [
    "code [here](https://plot.ly/python/lines-on-maps/)"
   ]
  },
  {
   "cell_type": "code",
   "execution_count": 1,
   "metadata": {},
   "outputs": [
    {
     "data": {
      "text/html": [
       "        <script type=\"text/javascript\">\n",
       "        window.PlotlyConfig = {MathJaxConfig: 'local'};\n",
       "        if (window.MathJax) {MathJax.Hub.Config({SVG: {font: \"STIX-Web\"}});}\n",
       "        if (typeof require !== 'undefined') {\n",
       "        require.undef(\"plotly\");\n",
       "        requirejs.config({\n",
       "            paths: {\n",
       "                'plotly': ['https://cdn.plot.ly/plotly-latest.min']\n",
       "            }\n",
       "        });\n",
       "        require(['plotly'], function(Plotly) {\n",
       "            window._Plotly = Plotly;\n",
       "        });\n",
       "        }\n",
       "        </script>\n",
       "        "
      ]
     },
     "metadata": {},
     "output_type": "display_data"
    },
    {
     "data": {
      "application/vnd.plotly.v1+json": {
       "config": {
        "linkText": "Export to plot.ly",
        "plotlyServerURL": "https://plot.ly",
        "showLink": false
       },
       "data": [
        {
         "colorbar": {
          "title": {
           "text": "Colorbar Title Goes Here"
          }
         },
         "colorscale": "Portland",
         "locationmode": "USA-states",
         "locations": [
          "AZ",
          "CA",
          "NY"
         ],
         "text": [
          "text 1",
          "text 2",
          "text 3"
         ],
         "type": "choropleth",
         "uid": "82ff622b-57ff-4470-9732-b1e133a9e9b3",
         "z": [
          1,
          2,
          3
         ]
        }
       ],
       "layout": {
        "geo": {
         "scope": "world"
        }
       }
      },
      "text/html": [
       "<div>\n",
       "        \n",
       "        \n",
       "            <div id=\"923a8e74-fc3d-421e-b32c-d6142e9d3b07\" class=\"plotly-graph-div\" style=\"height:525px; width:100%;\"></div>\n",
       "            <script type=\"text/javascript\">\n",
       "                require([\"plotly\"], function(Plotly) {\n",
       "                    window.PLOTLYENV=window.PLOTLYENV || {};\n",
       "                    window.PLOTLYENV.BASE_URL='https://plot.ly';\n",
       "                    \n",
       "                if (document.getElementById(\"923a8e74-fc3d-421e-b32c-d6142e9d3b07\")) {\n",
       "                    Plotly.newPlot(\n",
       "                        '923a8e74-fc3d-421e-b32c-d6142e9d3b07',\n",
       "                        [{\"colorbar\": {\"title\": {\"text\": \"Colorbar Title Goes Here\"}}, \"colorscale\": \"Portland\", \"locationmode\": \"USA-states\", \"locations\": [\"AZ\", \"CA\", \"NY\"], \"text\": [\"text 1\", \"text 2\", \"text 3\"], \"type\": \"choropleth\", \"uid\": \"82ff622b-57ff-4470-9732-b1e133a9e9b3\", \"z\": [1.0, 2.0, 3.0]}],\n",
       "                        {\"geo\": {\"scope\": \"world\"}},\n",
       "                        {\"showLink\": false, \"linkText\": \"Export to plot.ly\", \"plotlyServerURL\": \"https://plot.ly\", \"responsive\": true}\n",
       "                    ).then(function(){\n",
       "                            \n",
       "var gd = document.getElementById('923a8e74-fc3d-421e-b32c-d6142e9d3b07');\n",
       "var x = new MutationObserver(function (mutations, observer) {{\n",
       "        var display = window.getComputedStyle(gd).display;\n",
       "        if (!display || display === 'none') {{\n",
       "            console.log([gd, 'removed!']);\n",
       "            Plotly.purge(gd);\n",
       "            observer.disconnect();\n",
       "        }}\n",
       "}});\n",
       "\n",
       "// Listen for the removal of the full notebook cells\n",
       "var notebookContainer = gd.closest('#notebook-container');\n",
       "if (notebookContainer) {{\n",
       "    x.observe(notebookContainer, {childList: true});\n",
       "}}\n",
       "\n",
       "// Listen for the clearing of the current output cell\n",
       "var outputEl = gd.closest('.output');\n",
       "if (outputEl) {{\n",
       "    x.observe(outputEl, {childList: true});\n",
       "}}\n",
       "\n",
       "                        })\n",
       "                };\n",
       "                });\n",
       "            </script>\n",
       "        </div>"
      ]
     },
     "metadata": {},
     "output_type": "display_data"
    }
   ],
   "source": [
    "# Python program to plot \n",
    "# geographical data using plotly \n",
    "\n",
    "# importing all necessary libraries \n",
    "import plotly.plotly as py \n",
    "import plotly.graph_objs as go \n",
    "import pandas as pd \n",
    "\n",
    "# some more libraries to plot graph \n",
    "from plotly.offline import download_plotlyjs, init_notebook_mode, iplot, plot \n",
    "\n",
    "# To establish connection \n",
    "init_notebook_mode(connected = True) \n",
    "\n",
    "\n",
    "# type defined is choropleth to \n",
    "# plot geographical plots \n",
    "data2 = dict(type = 'choropleth', \n",
    "\n",
    "\t\t\t# location: Arizoana, California, Newyork \n",
    "\t\t\tlocations = ['AZ', 'CA', 'NY'], \n",
    "\t\t\t\n",
    "\t\t\t# States of USA \n",
    "\t\t\tlocationmode = 'USA-states', \n",
    "\t\t\t\n",
    "\t\t\t# colorscale can be added as per requirement \n",
    "\t\t\tcolorscale = 'Portland', \n",
    "\t\t\t\n",
    "\t\t\t# text can be given anything you like \n",
    "\t\t\ttext = ['text 1', 'text 2', 'text 3'], \n",
    "\t\t\tz = [1.0, 2.0, 3.0], \n",
    "\t\t\tcolorbar = {'title': 'Colorbar Title Goes Here'}) \n",
    "\t\t\t\n",
    "layout = dict(geo ={'scope': 'world'}) \n",
    "\n",
    "# passing data dictionary as a list \n",
    "choromap = go.Figure(data = [data2], layout = layout) \n",
    "\n",
    "# plotting graph \n",
    "iplot(choromap) \n"
   ]
  },
  {
   "cell_type": "code",
   "execution_count": null,
   "metadata": {},
   "outputs": [],
   "source": []
  }
 ],
 "metadata": {
  "kernelspec": {
   "display_name": "Python 3",
   "language": "python",
   "name": "python3"
  },
  "language_info": {
   "codemirror_mode": {
    "name": "ipython",
    "version": 3
   },
   "file_extension": ".py",
   "mimetype": "text/x-python",
   "name": "python",
   "nbconvert_exporter": "python",
   "pygments_lexer": "ipython3",
   "version": "3.7.3"
  }
 },
 "nbformat": 4,
 "nbformat_minor": 2
}
